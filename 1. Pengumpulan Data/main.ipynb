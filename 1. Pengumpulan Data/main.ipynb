{
 "cells": [
  {
   "cell_type": "code",
   "execution_count": null,
   "metadata": {},
   "outputs": [],
   "source": [
    "import json\n",
    "import csv"
   ]
  },
  {
   "cell_type": "code",
   "execution_count": null,
   "metadata": {},
   "outputs": [],
   "source": [
    "def merge_json_files(files):\n",
    "    merged_data = {}\n",
    "\n",
    "    # Membaca data dari file pertama\n",
    "    with open(files[0], encoding='utf-8') as f:\n",
    "        merged_data = json.load(f)\n",
    "\n",
    "    # Menggabungkan data dari file-file lainnya\n",
    "    for file in files[1:]:\n",
    "        with open(file, encoding='utf-8') as f:\n",
    "            data = json.load(f)\n",
    "\n",
    "            # Memeriksa setiap kunci pada file kedua\n",
    "            for key, value in data.items():\n",
    "                if key not in merged_data:\n",
    "                    merged_data[key] = value\n",
    "\n",
    "    return merged_data\n",
    "\n",
    "# Contoh penggunaan\n",
    "file1 = '1.json'\n",
    "file2 = '2.json'\n",
    "file3 = '3.json'\n",
    "file4 = 'scrape_tgl8&9Juli.json'\n",
    "\n",
    "merged_json = merge_json_files([file1, file2, file3, file4])\n",
    "\n",
    "# Menyimpan hasil penggabungan ke file baru\n",
    "output_file = 'merged.json'\n",
    "with open(output_file, 'w') as outfile:\n",
    "    json.dump(merged_json, outfile, indent=4)"
   ]
  },
  {
   "cell_type": "code",
   "execution_count": 21,
   "metadata": {},
   "outputs": [
    {
     "name": "stdout",
     "output_type": "stream",
     "text": [
      "Output saved to data.csv\n"
     ]
    }
   ],
   "source": [
    "# Read the JSON file with the appropriate encoding\n",
    "with open('./merged.json', encoding='utf-8') as file:\n",
    "    data = json.load(file)\n",
    "\n",
    "# Modify the \"text\" values in the JSON data\n",
    "for value in data.values():\n",
    "    value['text'] = value['text'].replace('\\n', ' ')\n",
    "\n",
    "# Extract the values from the JSON object\n",
    "output = {'data': list(data.values())}\n",
    "# output['text'].replace('\\n', ', ', inplace=True)\n",
    "\n",
    "# Define the field names for the CSV\n",
    "fieldnames = output['data'][0].keys()\n",
    "\n",
    "# Write the output to a CSV file\n",
    "with open('./merged.csv', 'w', newline='', encoding='utf-8') as output_file:\n",
    "    writer = csv.DictWriter(output_file, fieldnames=fieldnames)\n",
    "    writer.writeheader()\n",
    "    writer.writerows(output['data'])\n",
    "\n",
    "print(\"Output saved to data.csv\")"
   ]
  },
  {
   "cell_type": "code",
   "execution_count": 22,
   "metadata": {},
   "outputs": [
    {
     "name": "stdout",
     "output_type": "stream",
     "text": [
      "New column added successfully!\n"
     ]
    }
   ],
   "source": [
    "csv_file_path = './merged.csv'\n",
    "\n",
    "# Define the name of the new column\n",
    "new_column_name = 'tweet_link'\n",
    "\n",
    "# Read the CSV file row by row and add new column data\n",
    "with open(csv_file_path, 'r',  encoding='utf-8') as file:\n",
    "    reader = csv.reader(file)\n",
    "    rows = list(reader)\n",
    "\n",
    "    # Add the new column header to the first row\n",
    "    rows[0].append(new_column_name)\n",
    "\n",
    "    # Iterate over each row (excluding the header)\n",
    "    for row in rows[1:]:\n",
    "        # Concatenate values from other columns\n",
    "        concatenated_data = 'https://twitter.com/'+row[4]+'/status/'+row[6]\n",
    "\n",
    "        # Add the concatenated data to the new column\n",
    "        row.append(concatenated_data)\n",
    "\n",
    "# Write the modified data back to the CSV file\n",
    "with open(csv_file_path, 'w', newline='',  encoding='utf-8') as file:\n",
    "    writer = csv.writer(file)\n",
    "    writer.writerows(rows)\n",
    "\n",
    "print(\"New column added successfully!\")"
   ]
  },
  {
   "cell_type": "code",
   "execution_count": null,
   "metadata": {},
   "outputs": [],
   "source": []
  }
 ],
 "metadata": {
  "kernelspec": {
   "display_name": "Python 3",
   "language": "python",
   "name": "python3"
  },
  "language_info": {
   "codemirror_mode": {
    "name": "ipython",
    "version": 3
   },
   "file_extension": ".py",
   "mimetype": "text/x-python",
   "name": "python",
   "nbconvert_exporter": "python",
   "pygments_lexer": "ipython3",
   "version": "3.10.11"
  },
  "orig_nbformat": 4
 },
 "nbformat": 4,
 "nbformat_minor": 2
}
